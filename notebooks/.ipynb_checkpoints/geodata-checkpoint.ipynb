{
 "cells": [
  {
   "cell_type": "code",
   "execution_count": 9,
   "id": "0e9415c3-c349-48c1-a77e-bd1626a39adf",
   "metadata": {},
   "outputs": [
    {
     "name": "stdout",
     "output_type": "stream",
     "text": [
      "('{\"type\":\"FeatureCollection\",\"timeStamp\":\"2024-08-06T08:54:01.085762Z\",\"features\":[{\"id\":\"ivs-gelaendekarte\",\"collection\":\"ch.astra.ivs-gelaendekarte\",\"type\":\"Feature\",\"stac_version\":\"0.9.0\",\"geometry\":{\"type\":\"Polygon\",\"coordinates\":[[[5.96,45.82],[5.96,47.81],[10.49,47.81],[10.49,45.82],[5.96,45.82]]]},\"bbox\":[5.96,45.82,10.49,47.81],\"properties\":{\"datetime\":\"2015-12-31T00:00:00Z\",\"title\":\"Inventory '\n",
      " 'historical routes terrain '\n",
      " 'map\",\"created\":\"2022-02-17T10:43:28.076053Z\",\"updated\":\"2022-09-15T08:05:45.291412Z\"},\"links\":[{\"rel\":\"self\",\"href\":\"https://data.geo.admin.ch/api/stac/v0.9/collections/ch.astra.ivs-gelaendekarte/items/ivs-gelaendekarte\"},{\"rel\":\"root\",\"href\":\"https://data.geo.admin.ch/api/stac/v0.9/\"},{\"rel\":\"parent\",\"href\":\"https://data.geo.admin.ch/api/stac/v0.9/collections/ch.astra.ivs-gelaendekarte\"},{\"rel\":\"collection\",\"href\":\"https://data.geo.admin.ch/api/stac/v0.9/collections/ch.astra.ivs-gelaendekarte\"},{\"rel\":\"alternate\",\"title\":\"STAC '\n",
      " 'Browser\",\"type\":\"text/html\",\"href\":\"https://data.geo.admin.ch/browser/index.html#/collections/ch.astra.ivs-gelaendekarte/items/ivs-gelaendekarte\"}],\"assets\":{\"ivs-gelaendekarte_2056.tif.zip\":{\"type\":\"application/x.tiff+zip\",\"href\":\"https://data.geo.admin.ch/ch.astra.ivs-gelaendekarte/ivs-gelaendekarte/ivs-gelaendekarte_2056.tif.zip\",\"created\":\"2022-02-17T10:43:29.007290Z\",\"updated\":\"2022-02-17T10:49:40.367743Z\",\"proj:epsg\":2056,\"checksum:multihash\":\"1220ba47d3602837c1db5f1a5be005f273c5020c83c194269a304cc635b5cb4fc0b7\"},\"ivs-gelaendekarte.zip\":{\"title\":\"Additional '\n",
      " 'files\",\"type\":\"application/zip\",\"href\":\"https://data.geo.admin.ch/ch.astra.ivs-gelaendekarte/ivs-gelaendekarte/ivs-gelaendekarte.zip\",\"created\":\"2022-02-17T10:43:29.786313Z\",\"updated\":\"2022-02-17T10:55:30.210192Z\",\"checksum:multihash\":\"12208fd23e9cb5f2922b0d06881f9b7691bf33fb1ccc51aad336dfd296b7f103ea84\"}}}],\"links\":[{\"rel\":\"self\",\"href\":\"https://data.geo.admin.ch/api/stac/v0.9/collections/ch.astra.ivs-gelaendekarte/items\"},{\"rel\":\"root\",\"href\":\"https://data.geo.admin.ch/api/stac/v0.9/\"},{\"rel\":\"parent\",\"href\":\"https://data.geo.admin.ch/api/stac/v0.9/collections/ch.astra.ivs-gelaendekarte\"},{\"rel\":\"collection\",\"href\":\"https://data.geo.admin.ch/api/stac/v0.9/collections/ch.astra.ivs-gelaendekarte\"},{\"rel\":\"alternate\",\"title\":\"STAC '\n",
      " 'Browser\",\"type\":\"text/html\",\"href\":\"https://data.geo.admin.ch/browser/index.html#/collections/ch.astra.ivs-gelaendekarte\"}]}')\n"
     ]
    }
   ],
   "source": [
    "import requests\n",
    "import pprint\n",
    "import pandas as pd\n",
    "\n",
    "request = \"https://data.geo.admin.ch/api/stac/v0.9/collections/ch.astra.ivs-gelaendekarte/items\"\n",
    "       \n",
    "response = requests.get(request)\n",
    "pprint.pprint(response.text)"
   ]
  },
  {
   "cell_type": "code",
   "execution_count": null,
   "id": "98f5631d-55ee-4eab-95c4-43e04e3a46c5",
   "metadata": {},
   "outputs": [],
   "source": []
  }
 ],
 "metadata": {
  "kernelspec": {
   "display_name": "Python 3 (ipykernel)",
   "language": "python",
   "name": "python3"
  },
  "language_info": {
   "codemirror_mode": {
    "name": "ipython",
    "version": 3
   },
   "file_extension": ".py",
   "mimetype": "text/x-python",
   "name": "python",
   "nbconvert_exporter": "python",
   "pygments_lexer": "ipython3",
   "version": "3.11.8"
  }
 },
 "nbformat": 4,
 "nbformat_minor": 5
}
