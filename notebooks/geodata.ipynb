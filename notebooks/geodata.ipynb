{
 "cells": [
  {
   "cell_type": "code",
   "execution_count": 10,
   "id": "0e9415c3-c349-48c1-a77e-bd1626a39adf",
   "metadata": {},
   "outputs": [
    {
     "data": {
      "text/plain": [
       "'{\"type\":\"FeatureCollection\",\"timeStamp\":\"2024-08-06T08:54:01.085762Z\",\"features\":[{\"id\":\"ivs-gelaendekarte\",\"collection\":\"ch.astra.ivs-gelaendekarte\",\"type\":\"Feature\",\"stac_version\":\"0.9.0\",\"geometry\":{\"type\":\"Polygon\",\"coordinates\":[[[5.96,45.82],[5.96,47.81],[10.49,47.81],[10.49,45.82],[5.96,45.82]]]},\"bbox\":[5.96,45.82,10.49,47.81],\"properties\":{\"datetime\":\"2015-12-31T00:00:00Z\",\"title\":\"Inventory historical routes terrain map\",\"created\":\"2022-02-17T10:43:28.076053Z\",\"updated\":\"2022-09-15T08:05:45.291412Z\"},\"links\":[{\"rel\":\"self\",\"href\":\"https://data.geo.admin.ch/api/stac/v0.9/collections/ch.astra.ivs-gelaendekarte/items/ivs-gelaendekarte\"},{\"rel\":\"root\",\"href\":\"https://data.geo.admin.ch/api/stac/v0.9/\"},{\"rel\":\"parent\",\"href\":\"https://data.geo.admin.ch/api/stac/v0.9/collections/ch.astra.ivs-gelaendekarte\"},{\"rel\":\"collection\",\"href\":\"https://data.geo.admin.ch/api/stac/v0.9/collections/ch.astra.ivs-gelaendekarte\"},{\"rel\":\"alternate\",\"title\":\"STAC Browser\",\"type\":\"text/html\",\"href\":\"https://data.geo.admin.ch/browser/index.html#/collections/ch.astra.ivs-gelaendekarte/items/ivs-gelaendekarte\"}],\"assets\":{\"ivs-gelaendekarte_2056.tif.zip\":{\"type\":\"application/x.tiff+zip\",\"href\":\"https://data.geo.admin.ch/ch.astra.ivs-gelaendekarte/ivs-gelaendekarte/ivs-gelaendekarte_2056.tif.zip\",\"created\":\"2022-02-17T10:43:29.007290Z\",\"updated\":\"2022-02-17T10:49:40.367743Z\",\"proj:epsg\":2056,\"checksum:multihash\":\"1220ba47d3602837c1db5f1a5be005f273c5020c83c194269a304cc635b5cb4fc0b7\"},\"ivs-gelaendekarte.zip\":{\"title\":\"Additional files\",\"type\":\"application/zip\",\"href\":\"https://data.geo.admin.ch/ch.astra.ivs-gelaendekarte/ivs-gelaendekarte/ivs-gelaendekarte.zip\",\"created\":\"2022-02-17T10:43:29.786313Z\",\"updated\":\"2022-02-17T10:55:30.210192Z\",\"checksum:multihash\":\"12208fd23e9cb5f2922b0d06881f9b7691bf33fb1ccc51aad336dfd296b7f103ea84\"}}}],\"links\":[{\"rel\":\"self\",\"href\":\"https://data.geo.admin.ch/api/stac/v0.9/collections/ch.astra.ivs-gelaendekarte/items\"},{\"rel\":\"root\",\"href\":\"https://data.geo.admin.ch/api/stac/v0.9/\"},{\"rel\":\"parent\",\"href\":\"https://data.geo.admin.ch/api/stac/v0.9/collections/ch.astra.ivs-gelaendekarte\"},{\"rel\":\"collection\",\"href\":\"https://data.geo.admin.ch/api/stac/v0.9/collections/ch.astra.ivs-gelaendekarte\"},{\"rel\":\"alternate\",\"title\":\"STAC Browser\",\"type\":\"text/html\",\"href\":\"https://data.geo.admin.ch/browser/index.html#/collections/ch.astra.ivs-gelaendekarte\"}]}'"
      ]
     },
     "execution_count": 10,
     "metadata": {},
     "output_type": "execute_result"
    }
   ],
   "source": [
    "import requests\n",
    "import pandas as pd\n",
    "\n",
    "request = \"https://data.geo.admin.ch/api/stac/v0.9/collections/ch.astra.ivs-gelaendekarte/items\"\n",
    "       \n",
    "response = requests.get(request)\n",
    "response.text"
   ]
  },
  {
   "cell_type": "code",
   "execution_count": 13,
   "id": "0625ffbd-c854-417b-87a5-8a2215391443",
   "metadata": {},
   "outputs": [],
   "source": [
    "import json\n",
    "\n",
    "data = json.loads(response.text)\n",
    "data\n",
    "\n",
    "with open('../data/test.json', 'w', encoding='utf-8') as f:\n",
    "    json.dump(data, f, ensure_ascii=False, indent=4)"
   ]
  },
  {
   "cell_type": "code",
   "execution_count": 14,
   "id": "9da85630-0973-490b-acc4-92b486260d84",
   "metadata": {},
   "outputs": [
    {
     "data": {
      "text/plain": [
       "{'type': 'FeatureCollection',\n",
       " 'timeStamp': '2024-08-06T08:54:01.085762Z',\n",
       " 'features': [{'id': 'ivs-gelaendekarte',\n",
       "   'collection': 'ch.astra.ivs-gelaendekarte',\n",
       "   'type': 'Feature',\n",
       "   'stac_version': '0.9.0',\n",
       "   'geometry': {'type': 'Polygon',\n",
       "    'coordinates': [[[5.96, 45.82],\n",
       "      [5.96, 47.81],\n",
       "      [10.49, 47.81],\n",
       "      [10.49, 45.82],\n",
       "      [5.96, 45.82]]]},\n",
       "   'bbox': [5.96, 45.82, 10.49, 47.81],\n",
       "   'properties': {'datetime': '2015-12-31T00:00:00Z',\n",
       "    'title': 'Inventory historical routes terrain map',\n",
       "    'created': '2022-02-17T10:43:28.076053Z',\n",
       "    'updated': '2022-09-15T08:05:45.291412Z'},\n",
       "   'links': [{'rel': 'self',\n",
       "     'href': 'https://data.geo.admin.ch/api/stac/v0.9/collections/ch.astra.ivs-gelaendekarte/items/ivs-gelaendekarte'},\n",
       "    {'rel': 'root', 'href': 'https://data.geo.admin.ch/api/stac/v0.9/'},\n",
       "    {'rel': 'parent',\n",
       "     'href': 'https://data.geo.admin.ch/api/stac/v0.9/collections/ch.astra.ivs-gelaendekarte'},\n",
       "    {'rel': 'collection',\n",
       "     'href': 'https://data.geo.admin.ch/api/stac/v0.9/collections/ch.astra.ivs-gelaendekarte'},\n",
       "    {'rel': 'alternate',\n",
       "     'title': 'STAC Browser',\n",
       "     'type': 'text/html',\n",
       "     'href': 'https://data.geo.admin.ch/browser/index.html#/collections/ch.astra.ivs-gelaendekarte/items/ivs-gelaendekarte'}],\n",
       "   'assets': {'ivs-gelaendekarte_2056.tif.zip': {'type': 'application/x.tiff+zip',\n",
       "     'href': 'https://data.geo.admin.ch/ch.astra.ivs-gelaendekarte/ivs-gelaendekarte/ivs-gelaendekarte_2056.tif.zip',\n",
       "     'created': '2022-02-17T10:43:29.007290Z',\n",
       "     'updated': '2022-02-17T10:49:40.367743Z',\n",
       "     'proj:epsg': 2056,\n",
       "     'checksum:multihash': '1220ba47d3602837c1db5f1a5be005f273c5020c83c194269a304cc635b5cb4fc0b7'},\n",
       "    'ivs-gelaendekarte.zip': {'title': 'Additional files',\n",
       "     'type': 'application/zip',\n",
       "     'href': 'https://data.geo.admin.ch/ch.astra.ivs-gelaendekarte/ivs-gelaendekarte/ivs-gelaendekarte.zip',\n",
       "     'created': '2022-02-17T10:43:29.786313Z',\n",
       "     'updated': '2022-02-17T10:55:30.210192Z',\n",
       "     'checksum:multihash': '12208fd23e9cb5f2922b0d06881f9b7691bf33fb1ccc51aad336dfd296b7f103ea84'}}}],\n",
       " 'links': [{'rel': 'self',\n",
       "   'href': 'https://data.geo.admin.ch/api/stac/v0.9/collections/ch.astra.ivs-gelaendekarte/items'},\n",
       "  {'rel': 'root', 'href': 'https://data.geo.admin.ch/api/stac/v0.9/'},\n",
       "  {'rel': 'parent',\n",
       "   'href': 'https://data.geo.admin.ch/api/stac/v0.9/collections/ch.astra.ivs-gelaendekarte'},\n",
       "  {'rel': 'collection',\n",
       "   'href': 'https://data.geo.admin.ch/api/stac/v0.9/collections/ch.astra.ivs-gelaendekarte'},\n",
       "  {'rel': 'alternate',\n",
       "   'title': 'STAC Browser',\n",
       "   'type': 'text/html',\n",
       "   'href': 'https://data.geo.admin.ch/browser/index.html#/collections/ch.astra.ivs-gelaendekarte'}]}"
      ]
     },
     "execution_count": 14,
     "metadata": {},
     "output_type": "execute_result"
    }
   ],
   "source": [
    "data"
   ]
  },
  {
   "cell_type": "code",
   "execution_count": null,
   "id": "60812056-6dce-490d-80cc-da1ae23833ca",
   "metadata": {},
   "outputs": [],
   "source": []
  }
 ],
 "metadata": {
  "kernelspec": {
   "display_name": "Python 3 (ipykernel)",
   "language": "python",
   "name": "python3"
  },
  "language_info": {
   "codemirror_mode": {
    "name": "ipython",
    "version": 3
   },
   "file_extension": ".py",
   "mimetype": "text/x-python",
   "name": "python",
   "nbconvert_exporter": "python",
   "pygments_lexer": "ipython3",
   "version": "3.11.8"
  }
 },
 "nbformat": 4,
 "nbformat_minor": 5
}
